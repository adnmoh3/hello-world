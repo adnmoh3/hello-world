{
    "cells": [
        {
            "metadata": {},
            "cell_type": "markdown",
            "source": "<!--headers for class-->"
        },
        {
            "metadata": {},
            "cell_type": "markdown",
            "source": "# headers 1\nHeading 6\n## heading 2\nheadings are weird\n### heading 3\nblah ill put in more headings\n#### heading 4\ni can keep going\n##### heading 5\nalmost...\n##### heading 5 plus italic\n_thats it._\n"
        },
        {
            "metadata": {},
            "cell_type": "code",
            "source": "(99+0)+(1-85+58)",
            "execution_count": 11,
            "outputs": [
                {
                    "output_type": "execute_result",
                    "execution_count": 11,
                    "data": {
                        "text/plain": "73"
                    },
                    "metadata": {}
                }
            ]
        },
        {
            "metadata": {},
            "cell_type": "code",
            "source": "",
            "execution_count": null,
            "outputs": []
        }
    ],
    "metadata": {
        "kernelspec": {
            "name": "python36",
            "display_name": "Python 3.6 with Spark",
            "language": "python3"
        },
        "language_info": {
            "mimetype": "text/x-python",
            "nbconvert_exporter": "python",
            "name": "python",
            "pygments_lexer": "ipython3",
            "version": "3.6.8",
            "file_extension": ".py",
            "codemirror_mode": {
                "version": 3,
                "name": "ipython"
            }
        }
    },
    "nbformat": 4,
    "nbformat_minor": 1
}